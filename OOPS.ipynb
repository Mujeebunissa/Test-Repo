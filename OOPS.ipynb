{
  "nbformat": 4,
  "nbformat_minor": 0,
  "metadata": {
    "colab": {
      "provenance": [],
      "authorship_tag": "ABX9TyPnbMmbmp91AmyHRN3ihfdI",
      "include_colab_link": true
    },
    "kernelspec": {
      "name": "python3",
      "display_name": "Python 3"
    },
    "language_info": {
      "name": "python"
    }
  },
  "cells": [
    {
      "cell_type": "markdown",
      "metadata": {
        "id": "view-in-github",
        "colab_type": "text"
      },
      "source": [
        "<a href=\"https://colab.research.google.com/github/Mujeebunissa/Test-Repo/blob/main/OOPS.ipynb\" target=\"_parent\"><img src=\"https://colab.research.google.com/assets/colab-badge.svg\" alt=\"Open In Colab\"/></a>"
      ]
    },
    {
      "cell_type": "markdown",
      "source": [
        "Object oriented programming(OOPS in Python):\n",
        "Object oriented programming is a programming paradigm based on the concepts of 'Objects' which can contain data, in the form of fields(often known as attributes or properties) and the code in the form of procedures/functions(known as methods).\n",
        "\n",
        "An object has two characteristics:\n",
        "\n",
        "attributes or properties\n",
        "state behaviour or functionality or action\n",
        "Let's take an example:\n",
        "\n",
        "A Human is an object, as it has the following properties:\n",
        "\n",
        "name, weight, height as attributes\n",
        "walking, running, dancing as behavior\n",
        "The concept of OOP in Python focuses on creating reusable code. This concept is also known as DRY (Don't Repeat Yourself)."
      ],
      "metadata": {
        "id": "YCp_8yEDuiL6"
      }
    },
    {
      "cell_type": "markdown",
      "source": [
        "In Python, the concept of OOP follows some basic principles:\n",
        "\n",
        "Class :\n",
        "A class is a blueprint for the object."
      ],
      "metadata": {
        "id": "u6fE1oBwutDJ"
      }
    },
    {
      "cell_type": "code",
      "source": [
        "class Human:     #defining class\n",
        "    # atrributes\n",
        "    # methods\n",
        "    pass"
      ],
      "metadata": {
        "id": "aEQlSsAFuUuT"
      },
      "execution_count": null,
      "outputs": []
    },
    {
      "cell_type": "markdown",
      "source": [
        "Object :\n",
        "All real world entities are called as 'Object'. Ex: car, bus, pen etc.\n",
        "An object (instance) is an instantiation of a class containing variables or methods. When class is defined, only the description for the object is defined. Therefore, no memory or storage is allocated.\n",
        "\n",
        "\n"
      ],
      "metadata": {
        "id": "eE22ODyuu3s2"
      }
    },
    {
      "cell_type": "code",
      "source": [
        "Obj = Human()\n",
        "Obj   #MEMORY LOCATION IS INSTANCE"
      ],
      "metadata": {
        "colab": {
          "base_uri": "https://localhost:8080/"
        },
        "id": "_Vl1FHRJuyo7",
        "outputId": "9e783f5d-c7e1-4edb-dcc2-71a6711f13b8"
      },
      "execution_count": null,
      "outputs": [
        {
          "output_type": "execute_result",
          "data": {
            "text/plain": [
              "<__main__.Human at 0x7f5be0355870>"
            ]
          },
          "metadata": {},
          "execution_count": 9
        }
      ]
    },
    {
      "cell_type": "code",
      "source": [
        "Obj.name = 'Mujtaba'"
      ],
      "metadata": {
        "id": "rYDS0p7pvoqy"
      },
      "execution_count": null,
      "outputs": []
    },
    {
      "cell_type": "code",
      "source": [],
      "metadata": {
        "id": "ETErZoXbv8DL"
      },
      "execution_count": null,
      "outputs": []
    },
    {
      "cell_type": "code",
      "execution_count": null,
      "metadata": {
        "id": "ThLH17oa2RPn",
        "colab": {
          "base_uri": "https://localhost:8080/"
        },
        "outputId": "35753cf6-bf31-462d-9b19-6d9fe64e340a"
      },
      "outputs": [
        {
          "output_type": "stream",
          "name": "stdout",
          "text": [
            "Welcome to CFI\n",
            "Name:akhil,Age:26,Phone:123456\n"
          ]
        }
      ],
      "source": [
        "# Create an application for CFI that should have this requirements:NAME,AGE,PHONE NUMBER for application\n",
        "class App_CFI:\n",
        "  name='akhil'\n",
        "  age='26'\n",
        "  phonenumber='123456'\n",
        "  def __init__(self,name,age,phonenumber):\n",
        "\n",
        "    print(\"Welcome to CFI\")\n",
        "    print(f\"Name:{self.name},Age:{self.age},Phone:{self.phonenumber}\")\n",
        "\n",
        "Applicant1=App_CFI('Mujeeb','42','9063804732')\n",
        "# Applicant2=App_CFI()"
      ]
    },
    {
      "cell_type": "code",
      "source": [
        "Applicant1.name"
      ],
      "metadata": {
        "colab": {
          "base_uri": "https://localhost:8080/",
          "height": 36
        },
        "id": "8BJhZ3nSFym-",
        "outputId": "1d98abd0-6794-46ee-f16d-10dda377ca77"
      },
      "execution_count": null,
      "outputs": [
        {
          "output_type": "execute_result",
          "data": {
            "text/plain": [
              "'akhil'"
            ],
            "application/vnd.google.colaboratory.intrinsic+json": {
              "type": "string"
            }
          },
          "metadata": {},
          "execution_count": 12
        }
      ]
    },
    {
      "cell_type": "code",
      "source": [
        "class App_CFI:\n",
        "  name='akhil'\n",
        "  age='26'\n",
        "  phonenumber='123456'\n",
        "  def __init__(self,name,age,phonenumber):#INITIALISATION METHOD\n",
        "    self.name=name\n",
        "    self.age=age\n",
        "    self.phonenumber=phonenumber\n",
        "    print(\"Welcome to CFI\")\n",
        "    print(f\"Name:{self.name},Age:{self.age},Phone:{self.phonenumber}\")\n",
        "\n",
        "# Applicant1=App_CFI('Mujeeb','42','9063804732')\n",
        "Applicant2=App_CFI('Maaz','13','11223')"
      ],
      "metadata": {
        "colab": {
          "base_uri": "https://localhost:8080/"
        },
        "id": "FbSH6gnGJqsg",
        "outputId": "ce3d1453-941d-48da-a3ff-7d04cba54f38"
      },
      "execution_count": null,
      "outputs": [
        {
          "output_type": "stream",
          "name": "stdout",
          "text": [
            "Welcome to CFI\n",
            "Name:Maaz,Age:13,Phone:11223\n"
          ]
        }
      ]
    },
    {
      "cell_type": "code",
      "source": [
        "class Car:\n",
        "  name = 'Nexon'    #CLASS ATTRIBUTES\n",
        "  def __init__(self,engine,seaters,color):\n",
        "    self.engine=engine              #Instance attributes\n",
        "    self.seaters=seaters\n",
        "    self.color=color\n",
        "\n",
        "  def driving(self,car_name):\n",
        "    print(f'{car_name} is driven')"
      ],
      "metadata": {
        "id": "yowgCExwy2jJ"
      },
      "execution_count": null,
      "outputs": []
    },
    {
      "cell_type": "code",
      "source": [
        "TataHarrier = Car('Diesel',7,'black')\n",
        "TataHarrier.engine\n",
        "TataHarrier.driving('Tata')"
      ],
      "metadata": {
        "colab": {
          "base_uri": "https://localhost:8080/"
        },
        "id": "60R8U_fL_S2F",
        "outputId": "b857a5c3-99ba-4fe4-f04c-0cf8e497d17a"
      },
      "execution_count": null,
      "outputs": [
        {
          "output_type": "stream",
          "name": "stdout",
          "text": [
            "Tata is driven\n"
          ]
        }
      ]
    },
    {
      "cell_type": "code",
      "source": [
        "class Car:\n",
        "  name = 'Nexon'    #CLASS ATTRIBUTES\n",
        "  def __init__(self,engine,seaters,color):\n",
        "    self.engine=engine              #Instance attributes\n",
        "    self.seaters=seaters\n",
        "    self.color=color\n",
        "\n",
        "  def driving(self):\n",
        "    print(f'{self.name} is driven')"
      ],
      "metadata": {
        "id": "YgVpdA8wru7-"
      },
      "execution_count": null,
      "outputs": []
    },
    {
      "cell_type": "code",
      "source": [
        "Tata=Car('Diesel',5,'white')\n",
        "Tata.engine\n",
        "Breeza=Car('petrol',5,'black')\n",
        "Breeza.driving"
      ],
      "metadata": {
        "colab": {
          "base_uri": "https://localhost:8080/"
        },
        "id": "yn5fzTYOr63v",
        "outputId": "956c550e-05e5-43dd-ac70-92d56a0a42db"
      },
      "execution_count": null,
      "outputs": [
        {
          "output_type": "execute_result",
          "data": {
            "text/plain": [
              "<bound method Car.driving of <__main__.Car object at 0x7f6c46d0c5b0>>"
            ]
          },
          "metadata": {},
          "execution_count": 12
        }
      ]
    },
    {
      "cell_type": "code",
      "source": [
        "# Create a class on polygon to identify which polygon based on sides\n",
        "#Calculate the area and perimeter for that polygon\n",
        "class Polygon:\n",
        "  number_sides='0'\n",
        "  def __init__(self,sides,base,height):\n",
        "    self.sides=sides\n",
        "    self.base=base\n",
        "    self.height=height\n",
        "  def identify(self):#self refers to current object,no need to gives sides base and height again in parameters for methods\n",
        "    if(sides==3):\n",
        "      print(\"Triangle\")\n",
        "    elif(sides==4)and(base==height):\n",
        "      print(\"Square\")\n",
        "    else:\n",
        "      print(\"Rectangle\")\n",
        "\n",
        "  def area(self,sides,base,height):\n",
        "    if (sides==3):\n",
        "      print(\"Area is:\",base*height*0.5)\n",
        "    else:\n",
        "      print(\"Area is : \",base*height)\n",
        "\n",
        "  def perimeter(self,sides,base,height):\n",
        "    if (sides==3):\n",
        "      print(\"perimeter is: \",3*base)\n",
        "    else:\n",
        "      print(\"perimeter is: \",((2*base)+(2*height)))\n",
        "\n",
        ""
      ],
      "metadata": {
        "id": "g102fVe8zt8k"
      },
      "execution_count": null,
      "outputs": []
    },
    {
      "cell_type": "code",
      "source": [
        "q=Polygon(4,12,8)\n",
        "q.identify(4,12,8)"
      ],
      "metadata": {
        "colab": {
          "base_uri": "https://localhost:8080/"
        },
        "id": "lGmH98E6AbAd",
        "outputId": "85c84390-f822-41d5-ecf8-66af1b8be1fc"
      },
      "execution_count": null,
      "outputs": [
        {
          "output_type": "stream",
          "name": "stdout",
          "text": [
            "Rectangle\n"
          ]
        }
      ]
    },
    {
      "cell_type": "code",
      "source": [
        "t=Polygon(3,12,8)\n",
        "t.identify(3)"
      ],
      "metadata": {
        "colab": {
          "base_uri": "https://localhost:8080/"
        },
        "id": "gR2F9iMm_nRS",
        "outputId": "b2260f3a-cdd5-4d4b-e060-1ea43292df1b"
      },
      "execution_count": null,
      "outputs": [
        {
          "output_type": "stream",
          "name": "stdout",
          "text": [
            "Triangle\n"
          ]
        }
      ]
    },
    {
      "cell_type": "code",
      "source": [
        "class Polygon:\n",
        "  number_sides='0'\n",
        "  def __init__(self,sides,base,height):\n",
        "    self.sides=sides\n",
        "    self.base=base\n",
        "    self.height=height\n",
        "  def identify(self):#self refers to current object\n",
        "    if(self.sides==3):\n",
        "      print(\"Triangle\")\n",
        "    elif(self.sides==4)and(self.base==self.height):\n",
        "      print(\"Square\")\n",
        "    else:\n",
        "      print(\"Rectangle\")\n",
        "\n",
        "  def area(self):\n",
        "    if (self.sides==3):\n",
        "      print(\"Area is:\",self.base*self.height*0.5)\n",
        "    else:\n",
        "      print(\"Area is : \",self.base*self.height)\n",
        "\n",
        "  def perimeter(self):\n",
        "    if (self.sides==3):\n",
        "      print(\"perimeter is: \",3*self.base)\n",
        "    else:\n",
        "      print(\"perimeter is: \",((2*self.base)+(2*self.height)))\n"
      ],
      "metadata": {
        "id": "772tY94PEtiv"
      },
      "execution_count": null,
      "outputs": []
    },
    {
      "cell_type": "code",
      "source": [
        "sq=Polygon(4,6,6)\n",
        "sq.identify()\n",
        "sq.area()\n",
        "sq.perimeter()"
      ],
      "metadata": {
        "colab": {
          "base_uri": "https://localhost:8080/"
        },
        "id": "hYBUN6FuE7E5",
        "outputId": "71c32467-6bd2-4cf5-fc3d-7d69791ebd44"
      },
      "execution_count": null,
      "outputs": [
        {
          "output_type": "stream",
          "name": "stdout",
          "text": [
            "Square\n",
            "Area is :  36\n",
            "perimeter is:  24\n"
          ]
        }
      ]
    },
    {
      "cell_type": "code",
      "source": [
        "rec=Polygon(4,9,3)\n",
        "rec.identify()\n",
        "rec.area()\n",
        "rec.perimeter()"
      ],
      "metadata": {
        "colab": {
          "base_uri": "https://localhost:8080/"
        },
        "id": "PdsekxYzb1_p",
        "outputId": "b12e2d0e-740f-4624-844f-be1db73454f8"
      },
      "execution_count": null,
      "outputs": [
        {
          "output_type": "stream",
          "name": "stdout",
          "text": [
            "Rectangle\n",
            "Area is :  27\n",
            "perimeter is:  24\n"
          ]
        }
      ]
    },
    {
      "cell_type": "markdown",
      "source": [
        "Inheritance:It's class ability to access the attributes and methods of another class\n",
        "1.   Single Inheritance\n",
        "2.   List item\n",
        "\n"
      ],
      "metadata": {
        "id": "7GwGcDVQu8cF"
      }
    },
    {
      "cell_type": "code",
      "source": [
        "class Parent:\n",
        "    a = 2\n",
        "    b = 3\n",
        "    def __init__(self):\n",
        "        print('I am parent class')\n",
        "    def Pmet(self):\n",
        "        print('I am parent class method')\n",
        "\n",
        "class Child(Parent):\n",
        "    c = 4\n",
        "    d = 5\n",
        "    def __init__(self):\n",
        "        print('I am Child class')\n",
        "    def Cmet(self):\n",
        "        print('I am child class method')\n",
        "        # print(self.a,self.b, self.Pmet())"
      ],
      "metadata": {
        "id": "2RQfENNyu7Tb"
      },
      "execution_count": null,
      "outputs": []
    },
    {
      "cell_type": "code",
      "source": [
        "Pobj = Parent()\n",
        "Cobj = Child()\n",
        "Pobj.Pmet"
      ],
      "metadata": {
        "colab": {
          "base_uri": "https://localhost:8080/"
        },
        "id": "Bk9RM4ovvkld",
        "outputId": "5186678e-ac7f-4821-d578-6ee137588455"
      },
      "execution_count": null,
      "outputs": [
        {
          "output_type": "stream",
          "name": "stdout",
          "text": [
            "I am parent class\n",
            "I am Child class\n"
          ]
        },
        {
          "output_type": "execute_result",
          "data": {
            "text/plain": [
              "<bound method Parent.Pmet of <__main__.Parent object at 0x7f076f227250>>"
            ]
          },
          "metadata": {},
          "execution_count": 3
        }
      ]
    },
    {
      "cell_type": "code",
      "source": [
        "# Pobj.a\n",
        "# Pobj.b\n",
        "# # Pobj.c #error\n",
        "\n",
        "# Pobj.Pmet()\n",
        "# # Pobj.Cmet() #error\n",
        "\n",
        "# Cobj.c\n",
        "# Cobj.d\n",
        "# Cobj.Pmet()\n",
        "Cobj.Cmet()"
      ],
      "metadata": {
        "colab": {
          "base_uri": "https://localhost:8080/"
        },
        "id": "n8m8vZ6b3Vee",
        "outputId": "e2cac37b-fa41-4e39-a101-6d03eb04636b"
      },
      "execution_count": null,
      "outputs": [
        {
          "output_type": "stream",
          "name": "stdout",
          "text": [
            "I am child class method\n"
          ]
        }
      ]
    },
    {
      "cell_type": "markdown",
      "source": [
        "Multilevel"
      ],
      "metadata": {
        "id": "B0CLs045Z6gC"
      }
    },
    {
      "cell_type": "code",
      "source": [
        "class GrandParent:\n",
        "    a = 2\n",
        "    b = 3\n",
        "    def __init__(self):\n",
        "        print('I am Grand parent class')\n",
        "    def Gpmet(self):\n",
        "        print('I am Grand parent class method')\n",
        "\n",
        "class Parent(GrandParent):\n",
        "    c = 4\n",
        "    d = 5\n",
        "    def __init__(self):\n",
        "        print('I am parent class')\n",
        "    def Pmet(self):\n",
        "        print('I am parent class method')\n",
        "\n",
        "class Child(Parent):\n",
        "    e = 6\n",
        "    f = 7\n",
        "    def __init__(self):\n",
        "        print('I am Child class')\n",
        "    def Cmet(self):\n",
        "        print('I am child class method')\n",
        "        # print(self.a,self.b, self.Pmet())"
      ],
      "metadata": {
        "id": "j58sFUuVZ9Mh"
      },
      "execution_count": null,
      "outputs": []
    },
    {
      "cell_type": "code",
      "source": [
        "# c1=Child()\n",
        "# c1.Cmet()\n",
        "# c1.Pmet()\n",
        "# p1=Parent()\n",
        "# p1.Pmet()\n",
        "# p1.Cmet()#throws error as parent doesn't have access to child methods\n",
        "g1=GrandParent()\n",
        "g1.Gpmet()\n",
        "p1.Gpmet()"
      ],
      "metadata": {
        "colab": {
          "base_uri": "https://localhost:8080/"
        },
        "id": "fucF7KaxLAA3",
        "outputId": "86011fb3-99c6-4b33-deb9-8180af8b06fd"
      },
      "execution_count": null,
      "outputs": [
        {
          "output_type": "stream",
          "name": "stdout",
          "text": [
            "I am Grand parent class\n",
            "I am Grand parent class method\n",
            "I am Grand parent class method\n"
          ]
        }
      ]
    },
    {
      "cell_type": "markdown",
      "source": [
        "Multiple"
      ],
      "metadata": {
        "id": "FlP4DWeAclcd"
      }
    },
    {
      "cell_type": "code",
      "source": [
        "class Father:\n",
        "    a = 2\n",
        "    b = 3\n",
        "    def __init__(self):\n",
        "        print('I am Father class')\n",
        "    def Fmet(self):\n",
        "        print('I am Father class method')\n",
        "\n",
        "class Mother:\n",
        "    c = 4\n",
        "    d = 5\n",
        "    def __init__(self):\n",
        "        print('I am mother class')\n",
        "    def Mmet(self):\n",
        "        print('I am mother class method')\n",
        "\n",
        "class Child(Father,Mother):\n",
        "    e = 6\n",
        "    f = 7\n",
        "    def __init__(self):\n",
        "        print('I am Child class')\n",
        "    def Cmet(self):\n",
        "        print('I am child class method')\n",
        "        # print(self.a,self.b, self.Pmet())"
      ],
      "metadata": {
        "id": "HzeKrWokcQB0"
      },
      "execution_count": null,
      "outputs": []
    },
    {
      "cell_type": "code",
      "source": [
        "# f1=Father()\n",
        "# f1.Fmet()\n",
        "# m1=Mother()\n",
        "# m1.Mmet()\n",
        "# c1=Child()\n",
        "# c1.Cmet()\n",
        "# c1.Mmet()\n",
        "# print(c1.e,c1.f)#refering to any class attribute is possible with object.class attribute\n",
        "# print(c1.c,c1.d,c1.a,c1.b)\n",
        "# c1.Fmet()\n",
        "c1.Mmet()"
      ],
      "metadata": {
        "colab": {
          "base_uri": "https://localhost:8080/"
        },
        "id": "Xy8ElcN9NwgT",
        "outputId": "6f4712e8-9381-4be8-c1e0-0fbf947befd9"
      },
      "execution_count": null,
      "outputs": [
        {
          "output_type": "stream",
          "name": "stdout",
          "text": [
            "I am mother class method\n"
          ]
        }
      ]
    },
    {
      "cell_type": "markdown",
      "source": [
        "Hierarchical"
      ],
      "metadata": {
        "id": "wYBKGMOgcutn"
      }
    },
    {
      "cell_type": "code",
      "source": [
        "class Parent:\n",
        "    a = 2\n",
        "    b = 3\n",
        "    def __init__(self):\n",
        "        print('I am Parent class')\n",
        "    def Pmet(self):\n",
        "        print('I am Parent class method')\n",
        "\n",
        "class Son(Parent):\n",
        "    c = 4\n",
        "    d = 5\n",
        "    def __init__(self):\n",
        "        print('I am Son class')\n",
        "    def Smet(self):\n",
        "        print('I am Son class method')\n",
        "\n",
        "class Daughter(Parent):\n",
        "    e = 6\n",
        "    f = 7\n",
        "    def __init__(self):\n",
        "        print('I am Daughter class')\n",
        "    def Dmet(self):\n",
        "        print('I am Daughter class method')"
      ],
      "metadata": {
        "id": "647f5ufpcthb"
      },
      "execution_count": null,
      "outputs": []
    },
    {
      "cell_type": "code",
      "source": [
        "# p1=Parent()\n",
        "# s1=Son()\n",
        "# d1=Daughter()\n",
        "# p1.Pmet()\n",
        "# s1.Pmet()\n",
        "# d1.Pmet()\n",
        "print(s1.d*p1.b)"
      ],
      "metadata": {
        "colab": {
          "base_uri": "https://localhost:8080/"
        },
        "id": "GnZjvWJ6Qcv8",
        "outputId": "03413c68-d9f4-4227-b6f8-61b5d6b9d0d6"
      },
      "execution_count": null,
      "outputs": [
        {
          "output_type": "stream",
          "name": "stdout",
          "text": [
            "15\n"
          ]
        }
      ]
    },
    {
      "cell_type": "markdown",
      "source": [
        "Assignment-May 20,2023"
      ],
      "metadata": {
        "id": "I33qEcrjFgUj"
      }
    },
    {
      "cell_type": "code",
      "source": [
        "# problem - 0\n",
        "# Write a Python program to check if a number is positive, negative or zero?\n",
        "class Pos_Neg:\n",
        "  def __init__(self,num):\n",
        "    self.num=num\n",
        "  def identify(self):\n",
        "    if(self.num>0):\n",
        "      print(f\"{self.num} is positive\")\n",
        "    elif(self.num<0):\n",
        "      print(f\"{self.num} is negative\")\n",
        "    else:\n",
        "      print(f\"{self.num} is zero\")\n",
        "n=Pos_Neg(-1)\n",
        "n.identify()\n",
        "n1=Pos_Neg(0)\n",
        "n1.identify()"
      ],
      "metadata": {
        "colab": {
          "base_uri": "https://localhost:8080/"
        },
        "id": "AVzicq7hc2r4",
        "outputId": "8dcc9028-e838-4107-fc25-2f291eaf326c"
      },
      "execution_count": null,
      "outputs": [
        {
          "output_type": "stream",
          "name": "stdout",
          "text": [
            "-1 is negative\n",
            "0 is zero\n"
          ]
        }
      ]
    },
    {
      "cell_type": "code",
      "source": [
        "n2=Pos_Neg(-12)\n",
        "n2.identify()"
      ],
      "metadata": {
        "colab": {
          "base_uri": "https://localhost:8080/"
        },
        "id": "bAPaJinSLrRA",
        "outputId": "92d598b6-aadc-4c8f-bc9e-7017c224d764"
      },
      "execution_count": null,
      "outputs": [
        {
          "output_type": "stream",
          "name": "stdout",
          "text": [
            "-12 is negative\n"
          ]
        }
      ]
    },
    {
      "cell_type": "code",
      "source": [
        "# Problem - 00\n",
        "#print Whether the given number is even or not.\n",
        "class e_o:\n",
        "  def __init__(self,num):\n",
        "    self.num=num\n",
        "  def identify(self,num):\n",
        "    if(self.num%2==0):\n",
        "      print(f\"{num} is even\")\n",
        "    else:\n",
        "      print(f\"{num} is odd\")"
      ],
      "metadata": {
        "id": "zYmWr-EQfHrr"
      },
      "execution_count": null,
      "outputs": []
    },
    {
      "cell_type": "code",
      "source": [
        "e1=e_o(20)\n",
        "e1.identify(20)"
      ],
      "metadata": {
        "colab": {
          "base_uri": "https://localhost:8080/"
        },
        "id": "PqtV0Ht2NQBX",
        "outputId": "79712603-84af-476a-fb0a-faeeed177320"
      },
      "execution_count": null,
      "outputs": [
        {
          "output_type": "stream",
          "name": "stdout",
          "text": [
            "20 is even\n"
          ]
        }
      ]
    },
    {
      "cell_type": "code",
      "source": [
        "o1=e_o(15)\n",
        "o1.identify(15)"
      ],
      "metadata": {
        "colab": {
          "base_uri": "https://localhost:8080/"
        },
        "id": "32YECxqeNt6B",
        "outputId": "019070e4-bd1a-401d-cea9-1ed0abfdbc3e"
      },
      "execution_count": null,
      "outputs": [
        {
          "output_type": "stream",
          "name": "stdout",
          "text": [
            "15 is odd\n"
          ]
        }
      ]
    },
    {
      "cell_type": "code",
      "source": [
        "# problem -1\n",
        "# Write a python code to add first n numbers?\n",
        "class Add_n:\n",
        "  n=10\n",
        "  def __init__(self,n):\n",
        "    self.n=n\n",
        "    print(f\"sum of first {self.n} numbers\")\n",
        "  def total(self):\n",
        "    summ=0\n",
        "    for i in range(self.n+1):\n",
        "      summ+=i\n",
        "    return(summ)\n"
      ],
      "metadata": {
        "id": "Mpwq5ZJOODJ_"
      },
      "execution_count": null,
      "outputs": []
    },
    {
      "cell_type": "code",
      "source": [
        "# a=Add_n(5)\n",
        "# a.total()\n",
        "b=Add_n(10)\n",
        "b.total()"
      ],
      "metadata": {
        "colab": {
          "base_uri": "https://localhost:8080/"
        },
        "id": "VqupAV_RU47Q",
        "outputId": "45a6a137-31af-4ca7-cff5-a816f4810c93"
      },
      "execution_count": null,
      "outputs": [
        {
          "output_type": "stream",
          "name": "stdout",
          "text": [
            "sum of first 10 numbers\n"
          ]
        },
        {
          "output_type": "execute_result",
          "data": {
            "text/plain": [
              "55"
            ]
          },
          "metadata": {},
          "execution_count": 68
        }
      ]
    },
    {
      "cell_type": "code",
      "source": [
        "# problem - 2\n",
        "# print any table.\n",
        "# PRINT MULTIPLE TABLES\n",
        "class Tables:\n",
        "  start=1\n",
        "  end=10\n",
        "  def __init__(self,start):\n",
        "    self.start=start\n",
        "  def mtables(self):\n",
        "    for i in range(1,11):\n",
        "      print(f\"{self.start} X {i} =\",self.start*i)\n",
        "  def mtables_interval(self,end):\n",
        "    self.end=end\n",
        "    for i in range(self.start,self.end+1):\n",
        "      for j in range(1,11):\n",
        "        print(f\"{i} x {j} =\",i*j)\n",
        "    print()"
      ],
      "metadata": {
        "id": "4_Zdujx7WEia"
      },
      "execution_count": null,
      "outputs": []
    },
    {
      "cell_type": "code",
      "source": [
        "num=Tables(2)\n",
        "# num.mtables()\n",
        "num.mtables_interval(5)"
      ],
      "metadata": {
        "id": "WzQtQYNrj6EW"
      },
      "execution_count": null,
      "outputs": []
    },
    {
      "cell_type": "code",
      "source": [
        "# problem - 3\n",
        "# check whether the given year is leap year or not.\n",
        "class Leap_year:\n",
        "  year=2023\n",
        "  def __init__(self,year):\n",
        "    self.year=year\n",
        "  def check(self):\n",
        "    if (self.year%4)==0:\n",
        "      if(self.year%400)==0:\n",
        "        print(f\"{self.year} is a leap year\")\n",
        "    else:\n",
        "      print(f\"{self.year} is not a leap year\")"
      ],
      "metadata": {
        "id": "HnnnfAGlmt-v"
      },
      "execution_count": null,
      "outputs": []
    },
    {
      "cell_type": "code",
      "source": [
        "y=Leap_year(1998)\n",
        "y.check()\n",
        "y1=Leap_year(2000)\n",
        "y1.check()"
      ],
      "metadata": {
        "colab": {
          "base_uri": "https://localhost:8080/"
        },
        "id": "ikv4Bf61Fxqz",
        "outputId": "c3348806-083f-4993-a1a5-c27476ffce94"
      },
      "execution_count": null,
      "outputs": [
        {
          "output_type": "stream",
          "name": "stdout",
          "text": [
            "1998 is not a leap year\n",
            "2000 is a leap year\n"
          ]
        }
      ]
    },
    {
      "cell_type": "code",
      "source": [
        "from IPython.utils.py3compat import encode\n",
        "#problem - 4\n",
        "# print the prime numbers in the given interval.\n",
        "class Primes:\n",
        "  a=[]\n",
        "  def __init__(self,start,stop):\n",
        "    self.start=start\n",
        "    self.stop=stop\n",
        "  def prime_no(self):\n",
        "      for i in range(self.start,self.stop+1):\n",
        "        for j in range(2,i):\n",
        "          if(i%j)==0:\n",
        "            break\n",
        "        else:\n",
        "            self.a.append(i)\n",
        "      return (self.a)\n"
      ],
      "metadata": {
        "id": "7QyLU8wZGnaj"
      },
      "execution_count": null,
      "outputs": []
    },
    {
      "cell_type": "code",
      "source": [
        "n=Primes(2,15)\n",
        "n.prime_no()"
      ],
      "metadata": {
        "colab": {
          "base_uri": "https://localhost:8080/"
        },
        "id": "sYwYJyZAwPvU",
        "outputId": "90d5ecc3-74fb-49b8-83f1-9682969db7eb"
      },
      "execution_count": null,
      "outputs": [
        {
          "output_type": "execute_result",
          "data": {
            "text/plain": [
              "[2, 3, 5, 7, 11, 13]"
            ]
          },
          "metadata": {},
          "execution_count": 3
        }
      ]
    },
    {
      "cell_type": "code",
      "source": [
        "n1=Primes(10,30)\n",
        "n1.prime_no()"
      ],
      "metadata": {
        "colab": {
          "base_uri": "https://localhost:8080/"
        },
        "id": "mlhUUcz0392p",
        "outputId": "9e07089b-97cc-439c-d9d7-90b61502fb49"
      },
      "execution_count": null,
      "outputs": [
        {
          "output_type": "execute_result",
          "data": {
            "text/plain": [
              "[11, 13, 17, 19, 23, 29]"
            ]
          },
          "metadata": {},
          "execution_count": 2
        }
      ]
    },
    {
      "cell_type": "code",
      "source": [
        "#problem - 5\n",
        "# check whether the given number is an armstrong number or not?\n",
        "class Armstrong_num:\n",
        "\n",
        "  def arm(self,n,p):\n",
        "    if (n==0):\n",
        "      return 0\n",
        "    else:\n",
        "      return(((n%10)**p)+ self.arm((n//10),p))\n",
        "\n",
        "    # if int(self.n)==(self.a):\n",
        "    #   print(f\"{self.n} is armstrong number\")\n",
        "    # else:\n",
        "    #   print(f\"{self.n} is not armstrong number\")"
      ],
      "metadata": {
        "id": "dtKK6FWcGoV0"
      },
      "execution_count": null,
      "outputs": []
    },
    {
      "cell_type": "code",
      "source": [
        "n=int(input(\"enter number\"))\n",
        "p=len(str(n))\n",
        "num=Armstrong_num()\n",
        "num.arm(n,p)"
      ],
      "metadata": {
        "colab": {
          "base_uri": "https://localhost:8080/"
        },
        "id": "wMOH9sHw_RbQ",
        "outputId": "773ded37-98b3-4a02-bb5d-f7f1e909004f"
      },
      "execution_count": null,
      "outputs": [
        {
          "name": "stdout",
          "output_type": "stream",
          "text": [
            "enter number153\n"
          ]
        },
        {
          "output_type": "execute_result",
          "data": {
            "text/plain": [
              "153"
            ]
          },
          "metadata": {},
          "execution_count": 39
        }
      ]
    },
    {
      "cell_type": "code",
      "source": [
        "n=int(input(\"please enter the num\"))\n",
        "p=len(str(n))\n",
        "\n",
        "def arm(n,p):\n",
        "\n",
        "  if (n==0):\n",
        "    return 0\n",
        "  else:\n",
        "    return(((n%10)**p)+ arm((n//10),p))\n",
        "\n",
        "\n",
        "\n",
        "\n",
        "a=arm(n,p)\n",
        "if (a==n):\n",
        "  print(\"number is armstrong\")\n",
        "else:\n",
        "  print(\"number is not armstrong\")\n",
        "\n"
      ],
      "metadata": {
        "id": "lqciajBoQ7Xo",
        "colab": {
          "base_uri": "https://localhost:8080/"
        },
        "outputId": "e17bc6eb-8c2c-41e0-edc8-dcd7e726a23f"
      },
      "execution_count": null,
      "outputs": [
        {
          "output_type": "stream",
          "name": "stdout",
          "text": [
            "please enter the num123\n",
            "number is not armstrong\n"
          ]
        }
      ]
    },
    {
      "cell_type": "code",
      "source": [
        "import math\n",
        "help(\"statistics\")"
      ],
      "metadata": {
        "id": "DjR7o6ootUIx"
      },
      "execution_count": null,
      "outputs": []
    },
    {
      "cell_type": "code",
      "source": [
        "# problem -6\n",
        "# WAP to find the square root & cube root of the number?\n",
        "\n",
        "class Num:\n",
        "  import math\n",
        "  n=0\n",
        "  def __init__(self,n):\n",
        "      self.n=n\n",
        "      print(f\"number is :{self.n}\")\n",
        "\n",
        "  def sqrt(self):\n",
        "      if (self.n)>0:\n",
        "        print(f\"Square root of number  =\",self.n**0.5)\n",
        "      else:\n",
        "        print(\"This programs calculatesSquare root for positive number\")\n",
        "\n",
        "  def cuberoot(self):\n",
        "      if (self.n)>0:\n",
        "        print(f\"cube root of number  =\",math.pow(self.n,(1/3)))\n",
        "      else:\n",
        "        print(\"This programs calculates cuberoot root for positive number\")"
      ],
      "metadata": {
        "id": "IGKwS-ocGsBN"
      },
      "execution_count": null,
      "outputs": []
    },
    {
      "cell_type": "code",
      "source": [
        "class Num:\n",
        "  import math\n",
        "  n=0\n",
        "  def __init__(self,n):\n",
        "      self.n=n\n",
        "      print(f\"number is :{self.n}\")\n",
        "\n",
        "  def sqrt(self):\n",
        "      if (self.n)>0:\n",
        "        print(f\"Square root of number  =\",self.n**0.5)\n",
        "      else:\n",
        "        print(\"This programs calculatesSquare root for positive number\")\n",
        "\n",
        "  def sqrt(self):\n",
        "      if (self.n)>0:\n",
        "        print(f\"cube root of number  =\",(self.n**(1/3)))\n",
        "      else:\n",
        "        print(\"This programs calculates cuberoot root for positive number\")"
      ],
      "metadata": {
        "id": "o5yK31UM6zVu"
      },
      "execution_count": null,
      "outputs": []
    },
    {
      "cell_type": "code",
      "source": [
        "n1=Num(25)\n",
        "n1.sqrt()\n",
        "# n1.cuberoot()"
      ],
      "metadata": {
        "colab": {
          "base_uri": "https://localhost:8080/"
        },
        "id": "B5ld1Vp1MrdU",
        "outputId": "50ff2f08-1c5e-4b2b-c182-9f41cae8e979"
      },
      "execution_count": null,
      "outputs": [
        {
          "output_type": "stream",
          "name": "stdout",
          "text": [
            "number is :25\n",
            "cube root of number  = 2.924017738212866\n"
          ]
        }
      ]
    },
    {
      "cell_type": "code",
      "source": [
        "n2=Num(729)\n",
        "n2.sqrt()\n",
        "n2.cuberoot()"
      ],
      "metadata": {
        "colab": {
          "base_uri": "https://localhost:8080/"
        },
        "id": "w-Xp4pQ0F0ab",
        "outputId": "83f3d0b9-8559-40d7-cc42-ac996cbd93ab"
      },
      "execution_count": null,
      "outputs": [
        {
          "output_type": "stream",
          "name": "stdout",
          "text": [
            "number is :729\n",
            "Square root of number  = 27.0\n",
            "cube root of number  = 8.999999999999998\n"
          ]
        }
      ]
    },
    {
      "cell_type": "code",
      "source": [
        "import math  #this helps u see what all functions in math module\n",
        "x=dir(math)\n",
        "x"
      ],
      "metadata": {
        "id": "bKhh1X5A4Wm4"
      },
      "execution_count": null,
      "outputs": []
    },
    {
      "cell_type": "code",
      "source": [
        "# problem - 7\n",
        "# Write a Python program to calculate the sum of three given numbers, if the values are equal then\n",
        "# return thrice of their sum?\n",
        "class Numbers:\n",
        "  a=0\n",
        "  b=0\n",
        "  c=0\n",
        "  def __init__(self,a,b,c):\n",
        "    self.a=a\n",
        "    self.b=b\n",
        "    self.c=c\n",
        "    print(f\"numbers are :{self.a},{self.b},{self.c}\")\n",
        "  def summ(self):\n",
        "    if (self.a==self.b) and (self.b==self.a):\n",
        "      print(f\"sum of three numbers =\",self.a*3)\n",
        "    else:\n",
        "      print(f\"sum of three numbers = \",self.a+self.b+self.c)"
      ],
      "metadata": {
        "id": "xS--ZEWRGzs6"
      },
      "execution_count": null,
      "outputs": []
    },
    {
      "cell_type": "code",
      "source": [
        "n=Numbers(10,11,12)\n",
        "n.summ()"
      ],
      "metadata": {
        "colab": {
          "base_uri": "https://localhost:8080/"
        },
        "id": "fKWbDMOeKp1A",
        "outputId": "5d805a2c-382d-4d6e-e733-406981c67682"
      },
      "execution_count": null,
      "outputs": [
        {
          "output_type": "stream",
          "name": "stdout",
          "text": [
            "numbers are :10,11,12\n",
            "sum of three numbers =  33\n"
          ]
        }
      ]
    },
    {
      "cell_type": "code",
      "source": [
        "# problem - 8\n",
        "# Isosceles, equilateral, sccale\n",
        "class Triangles:\n",
        "  a=0\n",
        "  b=0\n",
        "  c=0\n",
        "  def __init__(self,a,b,c):\n",
        "    self.a=a\n",
        "    self.b=b\n",
        "    self.c=c\n",
        "  def identify(self):\n",
        "    if(self.a==self.b) and (self.b==self.a):\n",
        "      print(f\"triangle with sides:{self.a},{self.b},{self.c} is equilateral\")\n",
        "    elif (self.a==self.b) or (self.b==self.c) or (self.a==self.c):\n",
        "      print(f\"triangle with sides:{self.a},{self.b},{self.c} is isosceles\")\n",
        "    else:\n",
        "      print(f\"triangle with sides:{self.a},{self.b},{self.c} is scalene\")"
      ],
      "metadata": {
        "id": "iNbnueOtG4H-"
      },
      "execution_count": null,
      "outputs": []
    },
    {
      "cell_type": "code",
      "source": [
        "t=Triangles(5,3,2)\n",
        "t.identify()\n",
        "e=Triangles(3,3,3)\n",
        "e.identify()"
      ],
      "metadata": {
        "colab": {
          "base_uri": "https://localhost:8080/"
        },
        "id": "8RyEYKqjIvQW",
        "outputId": "56b27c7f-1c08-466f-b0ec-e1fbdd199491"
      },
      "execution_count": null,
      "outputs": [
        {
          "output_type": "stream",
          "name": "stdout",
          "text": [
            "triangle with sides:5,3,2 is scalene\n",
            "triangle with sides:3,3,3 is equilateral\n"
          ]
        }
      ]
    },
    {
      "cell_type": "markdown",
      "source": [
        "Super refers to parent class by default"
      ],
      "metadata": {
        "id": "EnK7oOIbPhCJ"
      }
    },
    {
      "cell_type": "code",
      "source": [
        "class Person:\n",
        "    country = \"India\"\n",
        "    def citizenship(self):\n",
        "        print(f\"I am a citizen of {self.country}\")\n",
        "\n",
        "class Student(Person):\n",
        "  state = 'AP'\n",
        "  salary = 0\n",
        "  def __init__(self,state,salary):\n",
        "   self.state = state\n",
        "   self.salary=salary\n",
        "  def getState(self):\n",
        "    print(f'I am from {self.state}')\n",
        "  def getSalary(self):\n",
        "    print(f'I get salary of {self.salary} INR')"
      ],
      "metadata": {
        "id": "W8zxek7MPYRo"
      },
      "execution_count": null,
      "outputs": []
    },
    {
      "cell_type": "markdown",
      "source": [
        "super on multiple class"
      ],
      "metadata": {
        "id": "npWqTCVvTU3x"
      }
    },
    {
      "cell_type": "code",
      "source": [
        "class Person:\n",
        "    country = \"India\"\n",
        "    def citizenship(self):\n",
        "        print(f\"I am a citizen of {self.country}\")\n",
        "\n",
        "class Student(Person):\n",
        "  state = 'AP'\n",
        "  salary = 0\n",
        "  def __init__(self,state,salary):\n",
        "   self.state = state\n",
        "   self.salary=salary\n",
        "  def getState(self):\n",
        "    print(f'I am from {self.state}')\n",
        "  def getSalary(self):\n",
        "    print(f'I get salary of {self.salary} INR')\n",
        "\n",
        "class Programmer(Student):\n",
        "    def __init__(self,state,salary,name):\n",
        "        super().__init__(state,salary) #import attributes from parent class(student)\n",
        "        self.name = name\n",
        "        print(self.name,self.state,self.salary)"
      ],
      "metadata": {
        "id": "W8o7VAZRTTCx"
      },
      "execution_count": null,
      "outputs": []
    },
    {
      "cell_type": "code",
      "source": [
        "pr2=Programmer('Andhra',12000,'John')"
      ],
      "metadata": {
        "colab": {
          "base_uri": "https://localhost:8080/"
        },
        "id": "tE_6CldiTh6B",
        "outputId": "c618fb6a-e198-45d6-d188-39fd7b6257fb"
      },
      "execution_count": null,
      "outputs": [
        {
          "output_type": "stream",
          "name": "stdout",
          "text": [
            "John Andhra 12000\n"
          ]
        }
      ]
    },
    {
      "cell_type": "markdown",
      "source": [
        " multiple"
      ],
      "metadata": {
        "id": "__gOjgbaT7Br"
      }
    },
    {
      "cell_type": "code",
      "source": [
        "class Person:\n",
        "    country = \"India\"\n",
        "    def citizenship(self):\n",
        "        print(f\"I am a citizen of {self.country}\")\n",
        "\n",
        "class Student1():\n",
        "  state = 'AP'\n",
        "  # salary = 0\n",
        "  def __init__(self,state,salary):\n",
        "   self.state = state\n",
        "   self.salary=salary\n",
        "  def getState(self):\n",
        "    print(f'I am from {self.state}')\n",
        "  def getSalary(self):\n",
        "    print(f'I get salary of {self.salary} INR')\n",
        "class Student2():\n",
        "  age=25\n",
        "  gender=\"male\"\n",
        "  def __init__(self,age,gender):\n",
        "    self.age=age\n",
        "    self.gender=gender\n",
        "  def getAge(self):\n",
        "    print(f\"I'm of {self.age}years\")\n",
        "class Programmer(Student1,Student2):\n",
        "  name='mujeeb'\n",
        "  def __init__(self,state,salary,age,gender,name):\n",
        "        Student1.__init__(state,salary) #import attributes from parent class(student)\n",
        "        Student2.__init__(age,gender)    #we cannot use super() for multiple class because\n",
        "        self.name = name\n",
        "        print(self.name,self.state,self.salary)"
      ],
      "metadata": {
        "id": "rwM18DlOUAkg"
      },
      "execution_count": null,
      "outputs": []
    },
    {
      "cell_type": "code",
      "source": [
        "p1=Programmer('AP',10000,20,'male','John')"
      ],
      "metadata": {
        "colab": {
          "base_uri": "https://localhost:8080/",
          "height": 340
        },
        "id": "NH8coFzcVa4C",
        "outputId": "2da70309-316c-407e-832a-fd757038f0d1"
      },
      "execution_count": null,
      "outputs": [
        {
          "output_type": "error",
          "ename": "TypeError",
          "evalue": "ignored",
          "traceback": [
            "\u001b[0;31m---------------------------------------------------------------------------\u001b[0m",
            "\u001b[0;31mTypeError\u001b[0m                                 Traceback (most recent call last)",
            "\u001b[0;32m<ipython-input-7-02f1b81d124a>\u001b[0m in \u001b[0;36m<cell line: 1>\u001b[0;34m()\u001b[0m\n\u001b[0;32m----> 1\u001b[0;31m \u001b[0mp1\u001b[0m\u001b[0;34m=\u001b[0m\u001b[0mProgrammer\u001b[0m\u001b[0;34m(\u001b[0m\u001b[0;34m'AP'\u001b[0m\u001b[0;34m,\u001b[0m\u001b[0;36m10000\u001b[0m\u001b[0;34m,\u001b[0m\u001b[0;36m20\u001b[0m\u001b[0;34m,\u001b[0m\u001b[0;34m'male'\u001b[0m\u001b[0;34m,\u001b[0m\u001b[0;34m'John'\u001b[0m\u001b[0;34m)\u001b[0m\u001b[0;34m\u001b[0m\u001b[0;34m\u001b[0m\u001b[0m\n\u001b[0m",
            "\u001b[0;32m<ipython-input-6-ff04bcca2af1>\u001b[0m in \u001b[0;36m__init__\u001b[0;34m(self, state, salary, age, gender, name)\u001b[0m\n\u001b[1;32m     25\u001b[0m   \u001b[0mname\u001b[0m\u001b[0;34m=\u001b[0m\u001b[0;34m'mujeeb'\u001b[0m\u001b[0;34m\u001b[0m\u001b[0;34m\u001b[0m\u001b[0m\n\u001b[1;32m     26\u001b[0m   \u001b[0;32mdef\u001b[0m \u001b[0m__init__\u001b[0m\u001b[0;34m(\u001b[0m\u001b[0mself\u001b[0m\u001b[0;34m,\u001b[0m\u001b[0mstate\u001b[0m\u001b[0;34m,\u001b[0m\u001b[0msalary\u001b[0m\u001b[0;34m,\u001b[0m\u001b[0mage\u001b[0m\u001b[0;34m,\u001b[0m\u001b[0mgender\u001b[0m\u001b[0;34m,\u001b[0m\u001b[0mname\u001b[0m\u001b[0;34m)\u001b[0m\u001b[0;34m:\u001b[0m\u001b[0;34m\u001b[0m\u001b[0;34m\u001b[0m\u001b[0m\n\u001b[0;32m---> 27\u001b[0;31m         \u001b[0mStudent1\u001b[0m\u001b[0;34m.\u001b[0m\u001b[0m__init__\u001b[0m\u001b[0;34m(\u001b[0m\u001b[0mstate\u001b[0m\u001b[0;34m,\u001b[0m\u001b[0msalary\u001b[0m\u001b[0;34m)\u001b[0m \u001b[0;31m#import attributes from parent class(student)\u001b[0m\u001b[0;34m\u001b[0m\u001b[0;34m\u001b[0m\u001b[0m\n\u001b[0m\u001b[1;32m     28\u001b[0m         \u001b[0mStudent2\u001b[0m\u001b[0;34m.\u001b[0m\u001b[0m__init__\u001b[0m\u001b[0;34m(\u001b[0m\u001b[0mage\u001b[0m\u001b[0;34m,\u001b[0m\u001b[0mgender\u001b[0m\u001b[0;34m)\u001b[0m    \u001b[0;31m#we cannot use super() for multiple class because\u001b[0m\u001b[0;34m\u001b[0m\u001b[0;34m\u001b[0m\u001b[0m\n\u001b[1;32m     29\u001b[0m         \u001b[0mself\u001b[0m\u001b[0;34m.\u001b[0m\u001b[0mname\u001b[0m \u001b[0;34m=\u001b[0m \u001b[0mname\u001b[0m\u001b[0;34m\u001b[0m\u001b[0;34m\u001b[0m\u001b[0m\n",
            "\u001b[0;31mTypeError\u001b[0m: Student1.__init__() missing 1 required positional argument: 'salary'"
          ]
        }
      ]
    },
    {
      "cell_type": "code",
      "source": [
        "# Area, Perimeter of rectangle, square\n",
        "class Rectangle:\n",
        "    def __init__(self,length,breadth):\n",
        "        self.length = length\n",
        "        self.breadth = breadth\n",
        "        # print('Your reactangle is ready')\n",
        "\n",
        "    def Area(self):\n",
        "        return self.length * self.breadth\n",
        "\n",
        "    def Perimeter(self):\n",
        "        return 2*(self.length+self.breadth)\n",
        "\n",
        "class Square(Rectangle):\n",
        "    def __init__(self,length):\n",
        "        super().__init__(length,length)\n",
        "        print('Your square is ready')\n",
        "\n",
        "class Cube(Square):\n",
        "# area - 6*l**2\n",
        "# Volume - l**3 - l**2*l\n",
        "    def Area(self):\n",
        "        return 6*super().Area()\n",
        "\n",
        "    def Volume(self):\n",
        "        return super().Area()*self.length\n",
        "\n",
        "C1 = Cube(5)\n",
        "# C1.Area()\n",
        "C1.Volume()\n",
        "# R1 = Rectangle(4,2)\n",
        "# S1 = Square(3)\n",
        "# S1.Area()\n",
        "# S1.Perimeter()"
      ],
      "metadata": {
        "id": "EsaxYv5EmT1a"
      },
      "execution_count": null,
      "outputs": []
    },
    {
      "cell_type": "markdown",
      "source": [
        "Decorators:\n",
        "Python has an interesting feature called decorators to add functionality to an existing code.\n",
        "\n",
        "This is also called metaprogramming because a part of the program tries to modify another part of the program at compile time."
      ],
      "metadata": {
        "id": "dOWIGG1GbxIa"
      }
    },
    {
      "cell_type": "code",
      "source": [
        "def calling():\n",
        "    return 'hi'\n",
        "abc = calling\n",
        "abc()"
      ],
      "metadata": {
        "id": "C6Flmi-NbyTb"
      },
      "execution_count": null,
      "outputs": []
    },
    {
      "cell_type": "code",
      "source": [
        "def first():\n",
        "    return 'hi'\n",
        "\n",
        "def second(fun):\n",
        "    print(fun())\n",
        "\n",
        "# second(first)"
      ],
      "metadata": {
        "id": "7HGuhr_ub14E"
      },
      "execution_count": null,
      "outputs": []
    },
    {
      "cell_type": "code",
      "source": [
        "second(\"hey\")"
      ],
      "metadata": {
        "colab": {
          "base_uri": "https://localhost:8080/",
          "height": 299
        },
        "id": "ysjXo_vbcKxm",
        "outputId": "9d4817c4-bd95-4349-f6e5-73ef4368d1df"
      },
      "execution_count": null,
      "outputs": [
        {
          "output_type": "error",
          "ename": "TypeError",
          "evalue": "ignored",
          "traceback": [
            "\u001b[0;31m---------------------------------------------------------------------------\u001b[0m",
            "\u001b[0;31mTypeError\u001b[0m                                 Traceback (most recent call last)",
            "\u001b[0;32m<ipython-input-9-20c8b208402a>\u001b[0m in \u001b[0;36m<cell line: 1>\u001b[0;34m()\u001b[0m\n\u001b[0;32m----> 1\u001b[0;31m \u001b[0msecond\u001b[0m\u001b[0;34m(\u001b[0m\u001b[0;34m\"hey\"\u001b[0m\u001b[0;34m)\u001b[0m\u001b[0;34m\u001b[0m\u001b[0;34m\u001b[0m\u001b[0m\n\u001b[0m",
            "\u001b[0;32m<ipython-input-8-3cf1048a1d52>\u001b[0m in \u001b[0;36msecond\u001b[0;34m(fun)\u001b[0m\n\u001b[1;32m      3\u001b[0m \u001b[0;34m\u001b[0m\u001b[0m\n\u001b[1;32m      4\u001b[0m \u001b[0;32mdef\u001b[0m \u001b[0msecond\u001b[0m\u001b[0;34m(\u001b[0m\u001b[0mfun\u001b[0m\u001b[0;34m)\u001b[0m\u001b[0;34m:\u001b[0m\u001b[0;34m\u001b[0m\u001b[0;34m\u001b[0m\u001b[0m\n\u001b[0;32m----> 5\u001b[0;31m     \u001b[0mprint\u001b[0m\u001b[0;34m(\u001b[0m\u001b[0mfun\u001b[0m\u001b[0;34m(\u001b[0m\u001b[0;34m)\u001b[0m\u001b[0;34m)\u001b[0m\u001b[0;34m\u001b[0m\u001b[0;34m\u001b[0m\u001b[0m\n\u001b[0m\u001b[1;32m      6\u001b[0m \u001b[0;34m\u001b[0m\u001b[0m\n\u001b[1;32m      7\u001b[0m \u001b[0;31m# second(first)\u001b[0m\u001b[0;34m\u001b[0m\u001b[0;34m\u001b[0m\u001b[0m\n",
            "\u001b[0;31mTypeError\u001b[0m: 'str' object is not callable"
          ]
        }
      ]
    },
    {
      "cell_type": "markdown",
      "source": [
        "So what are closures good for?\n",
        "\n",
        "Closures can avoid the use of global values and provides some form of data hiding. It can also provide an object oriented solution to the problem.\n",
        "\n",
        "When there are few methods (one method in most cases) to be implemented in a class, closures can provide an alternate and more elegant solution. But when the number of attributes and methods get larger, it's better to implement a class.\n",
        "\n",
        "Here is a simple example where a closure might be more preferable than defining a class and making objects. But the preference is all yours."
      ],
      "metadata": {
        "id": "EpsLSwQ9pUkz"
      }
    },
    {
      "cell_type": "code",
      "source": [
        "def multiplier1():\n",
        "    def multiplier2(b):\n",
        "        return b+b\n",
        "    return multiplier2"
      ],
      "metadata": {
        "id": "PwceymOMpeOK"
      },
      "execution_count": null,
      "outputs": []
    },
    {
      "cell_type": "code",
      "source": [
        "multiplier1()(2)"
      ],
      "metadata": {
        "id": "L8FHGAsdpizi"
      },
      "execution_count": null,
      "outputs": []
    },
    {
      "cell_type": "code",
      "source": [
        "def multiplier1(a):\n",
        "    def multiplier2(b):\n",
        "        return a*b\n",
        "    return multiplier2"
      ],
      "metadata": {
        "id": "SOa4xFS4qGss"
      },
      "execution_count": null,
      "outputs": []
    },
    {
      "cell_type": "code",
      "source": [
        "# multiplier1(3)(2)\n",
        "\n",
        "mul = multiplier1(4)\n",
        "mul(3)"
      ],
      "metadata": {
        "id": "cEfpNaIhqbTc"
      },
      "execution_count": null,
      "outputs": []
    },
    {
      "cell_type": "code",
      "source": [
        "def multiplier1(a):\n",
        "    def multiplier2(b):\n",
        "        return a*b\n",
        "    return multiplier2"
      ],
      "metadata": {
        "id": "-nwIHGwTqdQQ"
      },
      "execution_count": null,
      "outputs": []
    },
    {
      "cell_type": "code",
      "source": [
        "mul1 = multiplier1(5)  # example of closures\n",
        "mul2 = multiplier1(6)\n",
        "mul2(mul1(7))"
      ],
      "metadata": {
        "id": "tAINvAQgqhWt"
      },
      "execution_count": null,
      "outputs": []
    },
    {
      "cell_type": "markdown",
      "source": [
        "Abstraction:\n",
        "In Python, an abstraction is used to hide the irrelevant data/class in order to reduce the complexity. It also enhances the application efficiency.\n",
        "\n",
        "Hide Implementation details, returns using call backs\n",
        "\n",
        "ABSTRACT CLASS : If it has one or more abstract methods\n",
        "\n",
        "ABSTRACT METHOD : Only declaration, but no Definition\n",
        "\n",
        "CONCRETE CLASS : If it doesnt have abstract class\n",
        "\n",
        "CONCRETE METHOD : If it has both definition and declaration\n",
        "\n",
        "Object cannot be instantiated for abstract class\n",
        "\n",
        "Object can only be instantiated by concrete class"
      ],
      "metadata": {
        "id": "8UalAGFOwO6E"
      }
    },
    {
      "cell_type": "code",
      "source": [
        "# Importing ABC class and abstract method from abc module\n",
        "from abc import ABC,abstractmethod\n",
        "class A(ABC): #Abstract class\n",
        "    @abstractmethod\n",
        "    def display(self): #abstract method\n",
        "        return None\n",
        "\n",
        "class Demo(A):\n",
        "    def display(self):\n",
        "        print('i am concrete method ')"
      ],
      "metadata": {
        "id": "Z6BCgVcW64GP"
      },
      "execution_count": null,
      "outputs": []
    },
    {
      "cell_type": "code",
      "source": [
        "class A(ABC):\n",
        "  @abstractmethod\n",
        "  def display(self):\n",
        "    return None\n",
        "\n",
        "  @abstractmethod\n",
        "  def show(self):\n",
        "    return None\n",
        "\n",
        "class B(A):\n",
        "  def display(self):\n",
        "    return 'Display method'\n",
        "\n",
        "#   def show(self):\n",
        "#     return 'show method'\n",
        "\n",
        "c = B()\n",
        "c.display()\n",
        "# c.show() ------> error is thrown because the abstract class has two methods so we cannot have a concreate class without following the framework of abstract\n"
      ],
      "metadata": {
        "colab": {
          "base_uri": "https://localhost:8080/",
          "height": 244
        },
        "id": "nONnLW2q65If",
        "outputId": "bcb494a0-5ccf-4aa3-9727-fdc79f17bee7"
      },
      "execution_count": null,
      "outputs": [
        {
          "output_type": "error",
          "ename": "NameError",
          "evalue": "ignored",
          "traceback": [
            "\u001b[0;31m---------------------------------------------------------------------------\u001b[0m",
            "\u001b[0;31mNameError\u001b[0m                                 Traceback (most recent call last)",
            "\u001b[0;32m<ipython-input-11-bedc046ed239>\u001b[0m in \u001b[0;36m<cell line: 1>\u001b[0;34m()\u001b[0m\n\u001b[0;32m----> 1\u001b[0;31m \u001b[0;32mclass\u001b[0m \u001b[0mA\u001b[0m\u001b[0;34m(\u001b[0m\u001b[0mABC\u001b[0m\u001b[0;34m)\u001b[0m\u001b[0;34m:\u001b[0m\u001b[0;34m\u001b[0m\u001b[0;34m\u001b[0m\u001b[0m\n\u001b[0m\u001b[1;32m      2\u001b[0m   \u001b[0;34m@\u001b[0m\u001b[0mabstractmethod\u001b[0m\u001b[0;34m\u001b[0m\u001b[0;34m\u001b[0m\u001b[0m\n\u001b[1;32m      3\u001b[0m   \u001b[0;32mdef\u001b[0m \u001b[0mdisplay\u001b[0m\u001b[0;34m(\u001b[0m\u001b[0mself\u001b[0m\u001b[0;34m)\u001b[0m\u001b[0;34m:\u001b[0m\u001b[0;34m\u001b[0m\u001b[0;34m\u001b[0m\u001b[0m\n\u001b[1;32m      4\u001b[0m     \u001b[0;32mreturn\u001b[0m \u001b[0;32mNone\u001b[0m\u001b[0;34m\u001b[0m\u001b[0;34m\u001b[0m\u001b[0m\n\u001b[1;32m      5\u001b[0m \u001b[0;34m\u001b[0m\u001b[0m\n",
            "\u001b[0;31mNameError\u001b[0m: name 'ABC' is not defined"
          ]
        }
      ]
    },
    {
      "cell_type": "code",
      "source": [
        "# For every abstract method, there has to be a concrete method\n",
        "from abc import ABC,abstractmethod\n",
        "class A(ABC):\n",
        "  @abstractmethod\n",
        "  def display(self):\n",
        "    return None\n",
        "\n",
        "  @abstractmethod\n",
        "  def show(self):\n",
        "    return None\n",
        "\n",
        "class B(A):\n",
        "  def display(self):\n",
        "    return 'Display method'\n",
        "\n",
        "class C(B):\n",
        "  def show(self):\n",
        "    return 'show method'\n",
        "# Number of abstract methods should be  = Number of concrete class methods\n",
        "# c = B()\n",
        "# c.display()\n",
        "# c.show()\n",
        "# C1=C()----->Can only instantiate class C as it could inherit\n",
        "# C1.show()\n",
        "# b=B()------>cannot instantiate B as it has less number of abstract method"
      ],
      "metadata": {
        "colab": {
          "base_uri": "https://localhost:8080/",
          "height": 207
        },
        "id": "OPompqAi8CqZ",
        "outputId": "91cb00e6-b1f1-4c48-9365-cc7d2494c95b"
      },
      "execution_count": null,
      "outputs": [
        {
          "output_type": "error",
          "ename": "TypeError",
          "evalue": "ignored",
          "traceback": [
            "\u001b[0;31m---------------------------------------------------------------------------\u001b[0m",
            "\u001b[0;31mTypeError\u001b[0m                                 Traceback (most recent call last)",
            "\u001b[0;32m<ipython-input-16-ac699319eba7>\u001b[0m in \u001b[0;36m<cell line: 25>\u001b[0;34m()\u001b[0m\n\u001b[1;32m     23\u001b[0m \u001b[0;31m# C1=C()\u001b[0m\u001b[0;34m\u001b[0m\u001b[0;34m\u001b[0m\u001b[0m\n\u001b[1;32m     24\u001b[0m \u001b[0;31m# C1.show()\u001b[0m\u001b[0;34m\u001b[0m\u001b[0;34m\u001b[0m\u001b[0m\n\u001b[0;32m---> 25\u001b[0;31m \u001b[0mb\u001b[0m\u001b[0;34m=\u001b[0m\u001b[0mB\u001b[0m\u001b[0;34m(\u001b[0m\u001b[0;34m)\u001b[0m\u001b[0;34m\u001b[0m\u001b[0;34m\u001b[0m\u001b[0m\n\u001b[0m",
            "\u001b[0;31mTypeError\u001b[0m: Can't instantiate abstract class B with abstract method show"
          ]
        }
      ]
    },
    {
      "cell_type": "markdown",
      "source": [
        "Encapsulation   MAY 25,2023"
      ],
      "metadata": {
        "id": "zG2gMytKss0V"
      }
    },
    {
      "cell_type": "code",
      "source": [],
      "metadata": {
        "id": "G5s4Bkqh8DvW"
      },
      "execution_count": null,
      "outputs": []
    },
    {
      "cell_type": "markdown",
      "source": [
        "There are three types of methods:\n",
        "\n",
        "Instance method:\n",
        "\n",
        "If you want to modify on instance variable\n",
        "No decorator needed\n",
        "self as first argument\n",
        "Class method:\n",
        "\n",
        "Class methods are for when you need to have methods that aren't specific to any particular instance, but still involve the class in some way.\n",
        "If you want to modify class variable\n",
        "Decorator needed\n",
        "cls as first argument\n",
        "Static method\n",
        "\n",
        "Decorator needed\n",
        "No arguments needed"
      ],
      "metadata": {
        "id": "hR_EpoNG_X0Y"
      }
    },
    {
      "cell_type": "code",
      "source": [
        "# Class method, instance method, static method\n",
        "class Human:\n",
        "  # Class variable shared by all objects\n",
        "  name = 'Ironman'\n",
        "\n",
        "  # Instance variable shared by specific objects\n",
        "  def __init__(self,name,height,weight):\n",
        "    # name = 'akhil'\n",
        "    self.name = name\n",
        "    self.height = height\n",
        "    self.weight = weight\n",
        "\n",
        "  # Instance method should have self\n",
        "  def walking(self): #here self can be object-a or object-b\n",
        "    print(f'{self.name} is walking')\n",
        "\n",
        "  # class method should have decorator\n",
        "  @classmethod\n",
        "  def updatename(cls,name): #Instead of self, we should use cls to call the object\n",
        "    cls.name = name\n",
        "    print(f'Updated name is {cls.name}')\n",
        "\n",
        "  @staticmethod\n",
        "  def movie(): # Static method takes NO self NO cls, No arguments should be passed\n",
        "    print('I am static method')\n",
        "\n",
        "a = Human('spiderman',5,40)\n",
        "b = Human('superman',6,50)\n",
        "\n",
        "Human.updatename('fireman') #Updates the class variable using class method\n",
        "Human.name"
      ],
      "metadata": {
        "colab": {
          "base_uri": "https://localhost:8080/",
          "height": 52
        },
        "id": "U6XtTXyr_XSP",
        "outputId": "c84008f8-0153-46c4-af67-cc2d9cfb9674"
      },
      "execution_count": null,
      "outputs": [
        {
          "output_type": "stream",
          "name": "stdout",
          "text": [
            "Updated name is fireman\n"
          ]
        },
        {
          "output_type": "execute_result",
          "data": {
            "text/plain": [
              "'fireman'"
            ],
            "application/vnd.google.colaboratory.intrinsic+json": {
              "type": "string"
            }
          },
          "metadata": {},
          "execution_count": 5
        }
      ]
    }
  ]
}